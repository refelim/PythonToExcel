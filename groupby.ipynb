{
 "cells": [
  {
   "cell_type": "code",
   "execution_count": null,
   "metadata": {},
   "outputs": [],
   "source": [
    "import xlwings as xw\n",
    "import pandas as pd\n",
    "import numpy as np\n",
    "import warnigs"
   ]
  },
  {
   "cell_type": "code",
   "execution_count": null,
   "metadata": {},
   "outputs": [],
   "source": [
    "book = xw.Book('/경로.xlsx')\n",
    "df = book.sheets(3).used_range.options(pd.DataFrame, index = False, header = False).value\n",
    "day = [20230526, 20230527,20230528,20230529,20230530,20230531]\n"
   ]
  },
  {
   "cell_type": "code",
   "execution_count": null,
   "metadata": {},
   "outputs": [],
   "source": [
    "def gasim_pivot() :\n",
    "\n",
    "    # 0~1행 지우고 다시 df 할당\n",
    "    df = df.loc[2:]\n",
    "\n",
    "    # 29,30행 지우기\n",
    "    del df[29], df[30]\n",
    "\n",
    "    # 0값 기준하여 none값 없애기\n",
    "    df.dropna(axis=0, how ='any', subset=[0], inplace = True)\n",
    "\n",
    "    # 0열에 있는 데이터 타입, 정수로 변경\n",
    "    df[0].astype(int)\n",
    "\n",
    "    # 인덱스 초기화 재설정\n",
    "    df.reset_index(drop = True, inplace = True)\n",
    "\n",
    "    # 값 변경하기\n",
    "    df.columns = ['날짜','번호','금액', .... 28개]\n",
    "\n",
    "    # 칼럼추가\n",
    "    df['colplus1'] = np.nan\n",
    "\n",
    "    # 칼럼 순서 바꾸기\n",
    "    df = df[['날짜','번호','금액', ...32개]]\n",
    "\n",
    "    # NaN 칼럼에 값 넣기\n",
    "    df.loc[(df['col1'] == 'ad000001')|(df['col1'] == 'ad000031'),\"colplus1\"] = \"변경값1\"\n",
    "    df.loc[(df['col2'] == 41),\"colplus2\"] = \"변경값2\"\n",
    "\n",
    "    #마지막 남은 NaN값 일괄 처리하기,\n",
    "    df['col2'] = df['col2'].fillna(\"변경값2\")\n",
    "    \n",
    "    # groupby\n",
    "    pivot_route = df.query('(col3 != '조건2') and (심사판정 == \"A\")').pivot_table(index = ['col1'], columns = ['col2'], values = ['col3'], \\\n",
    "                                                                            pivot_route = pivot_route.reindex(index=['col1value1','col2value2','col3value3']))"
   ]
  }
 ],
 "metadata": {
  "kernelspec": {
   "display_name": "Python 3",
   "language": "python",
   "name": "python3"
  },
  "language_info": {
   "codemirror_mode": {
    "name": "ipython",
    "version": 3
   },
   "file_extension": ".py",
   "mimetype": "text/x-python",
   "name": "python",
   "nbconvert_exporter": "python",
   "pygments_lexer": "ipython3",
   "version": "3.12.3"
  }
 },
 "nbformat": 4,
 "nbformat_minor": 2
}
