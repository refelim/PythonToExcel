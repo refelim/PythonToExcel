{
 "cells": [
  {
   "cell_type": "markdown",
   "metadata": {},
   "source": [
    "# pickle 기초적인 활용 방법\n",
    "\n",
    "pickle 파일 실행 및 로드, 출력 값 지수 +e 없애고 정수로 변경"
   ]
  },
  {
   "cell_type": "code",
   "execution_count": null,
   "metadata": {},
   "outputs": [],
   "source": [
    "import pandas as pd\n",
    "import pickle\n",
    "\n",
    "# 파이썬 데이터 메모리 저장 -> 드라이브 저장\n",
    "# 동일한 엑셀 파일에 비해 파일 크기가 작음\n",
    "# 시트에 백만 건 이상 데이터 한 번에 작업\n",
    "\n",
    "import gzip # pickle 파일 압축 패키지\n",
    "import warnings # 빨간색 경고창 안뜨는 패키지\n",
    "warnings.filterwarnings(action ='ignore')"
   ]
  },
  {
   "cell_type": "code",
   "execution_count": null,
   "metadata": {},
   "outputs": [],
   "source": [
    "pd.options.display.float_format = '{:.0f}'.format # 지수 +e 없애고 정수로 바꾸기"
   ]
  },
  {
   "cell_type": "code",
   "execution_count": null,
   "metadata": {},
   "outputs": [],
   "source": [
    "if 변수 :\n",
    "\n",
    "    with gzip.open(picklefile, 'rb') as f : # 피클 load\n",
    "\n",
    "        df_load = pickle.load(f)\n",
    "\n",
    "        df_load.reset_index(drop = True, inplace = True)\n",
    "\n",
    "        df = pd.concat([df, df_load])\n",
    "\n",
    "    with gzip.open(picklefile, 'wb') as f : # 피클 저장\n",
    "\n",
    "        pickle.dump(df,ff protocol = pickle.HEGHEST_PROTOCOL)\n",
    "else :\n",
    "\n",
    "    with gzip.open(picklefile, 'wb') as f : # False시 저장만 하는 기능, 파일 처음 만들 때 사용\n",
    "        \n",
    "    pickle.dump(df, f, protocol = pickle.HIGHEST_PROTOCOL)\n",
    "    \n",
    "# picklefile : 파일 이름 및 경로 변수 이름"
   ]
  }
 ],
 "metadata": {
  "language_info": {
   "name": "python"
  }
 },
 "nbformat": 4,
 "nbformat_minor": 2
}
