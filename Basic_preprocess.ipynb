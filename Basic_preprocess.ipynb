{
 "cells": [
  {
   "cell_type": "markdown",
   "metadata": {},
   "source": [
    "# Basic Pandas Data Preprocess \n",
    "\n",
    "칼럼 추가, 칼럼명 변경, 칼럼 순서 바꾸기, 값 넣기, 파일 불러오기 , 피벗 테이블 사용 하기"
   ]
  },
  {
   "cell_type": "code",
   "execution_count": null,
   "metadata": {},
   "outputs": [],
   "source": [
    "import xlwings as xw\n",
    "import pandas as pd\n",
    "import numpy as np\n"
   ]
  },
  {
   "cell_type": "code",
   "execution_count": null,
   "metadata": {},
   "outputs": [],
   "source": [
    "def data_pivot(filepath, date, savepath) :\n",
    "\n",
    "    # 파일 불러오기\n",
    "    book = xw.Book(filepath)\n",
    "\n",
    "    # 원하는 시트에 데이터 프레임으로 불러오기\n",
    "    df = book.sheets(1).used_range.options(pd.DataFrame, index = False, header = False).value\n",
    "\n",
    "    # nan 값으로 새로운 칼럼 추가\n",
    "    df['col1'] = np.nan\n",
    "\n",
    "    # 일자는 date 변수\n",
    "    df['일자'] = date\n",
    "\n",
    "    # 칼럼 순서 변경\n",
    "    df = df[['col1','col2',0,1,2]]\n",
    "\n",
    "    # 칼럼 이름 변경\n",
    "    df.columns = ['이름변경','이름변경2','칼럼이름변경3','칼럼이름변경4']\n",
    "\n",
    "    # 특정한 값을 가진 행에 원하는 열의 원하는 값 넣기\n",
    "    # | or, % and,\n",
    "    # df.loc[(df['col'] == 1, 'co2')] = 2\n",
    "    df.loc[(df['이름변경'] == '값1')|(df['이름변경'] == '값2', '칼럼이름변경4')] = '값3으로변경'\n",
    "\n",
    "    # 나머지 nan값 처리\n",
    "    df['이름변경'] = df['이름변경'].fillna('na값대체')\n",
    "\n",
    "    # 엑셀 파일 저장, 인덱스 False\n",
    "    df.to_excel(savepath, index = False)\n",
    "\n",
    "    # 피벗테이블 query 칼럼 당 조건 붙여서 사용\n",
    "    pivot_routeA = df.query('(상품명 != \"GL005\") and (심사판정 == \"A\")').pivot_table(index = ['이름변경']\n",
    "    , columns = ['조회일자']\n",
    "    , values = ['상품명']\n",
    "    , aggfunc = 'count'\n",
    "    , sort = True)\n",
    "\n",
    "    # 피벗 테이블 인덱스 순서 변경\n",
    "    pivot_routeA = pivot_routeA.reindex(index = ['모집', '혁신', '금플'])\n",
    "\n",
    "    # 다수의 피벗테이블을 한 눈에 보고 싶다면 print로 보자\n",
    "    print(pivot_routeA, sep = '/n')"
   ]
  }
 ],
 "metadata": {
  "language_info": {
   "name": "python"
  }
 },
 "nbformat": 4,
 "nbformat_minor": 2
}
