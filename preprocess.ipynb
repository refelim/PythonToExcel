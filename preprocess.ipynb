{
 "cells": [
  {
   "cell_type": "markdown",
   "metadata": {},
   "source": [
    "두개의 열의 함수를 다른 칼럼에 추가해서 넣기, \n",
    "\n",
    "특정 조건에 맞는 데이터를 선택하여 '계산col1'의 합을 계산하고, 두 개의 합의 비율을 퍼센트로 출력\n"
   ]
  },
  {
   "cell_type": "code",
   "execution_count": null,
   "metadata": {},
   "outputs": [],
   "source": [
    "import xlwings as xw\n",
    "import pandas as pd"
   ]
  },
  {
   "cell_type": "code",
   "execution_count": null,
   "metadata": {},
   "outputs": [],
   "source": [
    "def overdue_product(filepath, savepath, date) :\n",
    "\n",
    "    book = xw.Book(filepath)\n",
    "\n",
    "    df = book.sheets(1).used_range.options(pd.DataFrame, index = False).value\n",
    "\n",
    "    df = df.loc[df['col1'] == '원하는값에 속한 것만 데이터 프레임으로 만듬']\n",
    "\n",
    "    # 1. df['연체횟수']에는 'col1'과 'col2' 열의 각 행별 최대값이 할당\n",
    "    df['연체횟수'] = df.loc[:,['col1','col2']].max(axis=1)\n",
    "\n",
    "    # DataFrame에서 '특정한컬럼1'의 값이 '특정한값1'과 일치하면서 '제외값1'과는 일치하지 않는 행을 선택합니다.\n",
    "    # 선택된 행의 '추가하는col1' 열의 값을 '추가하는값1'로 업데이트합니다.\n",
    "\n",
    "    df.loc[(df['특정한컬럼1'] == '특정한값1')&(df['특정한컬럼1'] != '제외값1'), '추가하는col1'] = '추가하는값1'\n",
    "\n",
    "    df.loc[(df['특정한컬럼1'] == '특정한값1'), '추가하는col1'] = '추가하는값2'\n",
    "\n",
    "    df.to_excel(savepath,index=False)\n",
    "\n",
    "    # 2. 특정 조건에 맞는 데이터를 선택하여 '계산col1'의 합을 계산하고, 두 개의 합의 비율을 퍼센트로 출력\n",
    "    A = df.loc[(df['특정한컬럼1'] == '특정한값1')|(df['특정한컬럼2'] == '특정한값2'), '계산col1'].sum()\n",
    "\n",
    "    B = df.loc[(df['특정한컬럼1'] == 1)&((df['특정한컬럼2'] == '특정한값2')|(df['특정한컬럼3'] == '특정한값3')), '계산col1'].sum()\n",
    "\n",
    "    print(date + f\" 비율 : {A/B:.2%}\")"
   ]
  }
 ],
 "metadata": {
  "language_info": {
   "name": "python"
  }
 },
 "nbformat": 4,
 "nbformat_minor": 2
}
